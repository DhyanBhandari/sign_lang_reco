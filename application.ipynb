{
 "cells": [
  {
   "cell_type": "code",
   "execution_count": 1,
   "id": "a30200f4",
   "metadata": {},
   "outputs": [
    {
     "name": "stderr",
     "output_type": "stream",
     "text": [
      "INFO: Created TensorFlow Lite XNNPACK delegate for CPU.\n"
     ]
    },
    {
     "name": "stdout",
     "output_type": "stream",
     "text": [
      "WARNING:tensorflow:No training configuration found in the save file, so the model was *not* compiled. Compile it manually.\n"
     ]
    },
    {
     "name": "stderr",
     "output_type": "stream",
     "text": [
      "2024-04-12 11:04:17.997 Python[1435:54303] WARNING: Secure coding is not enabled for restorable state! Enable secure coding by implementing NSApplicationDelegate.applicationSupportsSecureRestorableState: and returning YES.\n"
     ]
    },
    {
     "ename": "NameError",
     "evalue": "name 'index' is not defined",
     "output_type": "error",
     "traceback": [
      "\u001b[0;31m---------------------------------------------------------------------------\u001b[0m",
      "\u001b[0;31mNameError\u001b[0m                                 Traceback (most recent call last)",
      "Cell \u001b[0;32mIn[1], line 61\u001b[0m\n\u001b[1;32m     57\u001b[0m         \u001b[38;5;28;01mpass\u001b[39;00m  \u001b[38;5;66;03m# Placeholder, add your specific task here\u001b[39;00m\n\u001b[1;32m     59\u001b[0m cv2\u001b[38;5;241m.\u001b[39mrectangle(imgOutput, (x \u001b[38;5;241m-\u001b[39m offset, y \u001b[38;5;241m-\u001b[39m offset\u001b[38;5;241m-\u001b[39m\u001b[38;5;241m50\u001b[39m),\n\u001b[1;32m     60\u001b[0m               (x \u001b[38;5;241m-\u001b[39m offset\u001b[38;5;241m+\u001b[39m\u001b[38;5;241m90\u001b[39m, y \u001b[38;5;241m-\u001b[39m offset\u001b[38;5;241m-\u001b[39m\u001b[38;5;241m50\u001b[39m\u001b[38;5;241m+\u001b[39m\u001b[38;5;241m50\u001b[39m), (\u001b[38;5;241m255\u001b[39m, \u001b[38;5;241m0\u001b[39m, \u001b[38;5;241m255\u001b[39m), cv2\u001b[38;5;241m.\u001b[39mFILLED)\n\u001b[0;32m---> 61\u001b[0m cv2\u001b[38;5;241m.\u001b[39mputText(imgOutput, labels[\u001b[43mindex\u001b[49m], (x, y \u001b[38;5;241m-\u001b[39m\u001b[38;5;241m26\u001b[39m), cv2\u001b[38;5;241m.\u001b[39mFONT_HERSHEY_COMPLEX, \u001b[38;5;241m1.7\u001b[39m, (\u001b[38;5;241m255\u001b[39m, \u001b[38;5;241m255\u001b[39m, \u001b[38;5;241m255\u001b[39m), \u001b[38;5;241m2\u001b[39m)\n\u001b[1;32m     62\u001b[0m cv2\u001b[38;5;241m.\u001b[39mrectangle(imgOutput, (x\u001b[38;5;241m-\u001b[39moffset, y\u001b[38;5;241m-\u001b[39moffset),\n\u001b[1;32m     63\u001b[0m               (x \u001b[38;5;241m+\u001b[39m w\u001b[38;5;241m+\u001b[39moffset, y \u001b[38;5;241m+\u001b[39m h\u001b[38;5;241m+\u001b[39moffset), (\u001b[38;5;241m255\u001b[39m, \u001b[38;5;241m0\u001b[39m, \u001b[38;5;241m255\u001b[39m), \u001b[38;5;241m4\u001b[39m)\n\u001b[1;32m     65\u001b[0m cv2\u001b[38;5;241m.\u001b[39mimshow(\u001b[38;5;124m\"\u001b[39m\u001b[38;5;124mImageCrop\u001b[39m\u001b[38;5;124m\"\u001b[39m, imgCrop)\n",
      "\u001b[0;31mNameError\u001b[0m: name 'index' is not defined"
     ]
    }
   ],
   "source": [
    "import cv2\n",
    "from cvzone.HandTrackingModule import HandDetector\n",
    "from cvzone.ClassificationModule import Classifier\n",
    "import numpy as np\n",
    "import math\n",
    "import subprocess\n",
    "\n",
    "cap = cv2.VideoCapture(0)\n",
    "detector = HandDetector(maxHands=1)\n",
    "classifier = Classifier(\"Model/keras_model.h5\", \"Model/labels.txt\")\n",
    "\n",
    "offset = 20\n",
    "imgSize = 300\n",
    "folder = \"Data/C\"\n",
    "counter = 0\n",
    "labels = [\"Help\", \"Hello\", \"Good\", \"No\",\"Thanks\"]\n",
    "\n",
    "while True:\n",
    "    success, img = cap.read()\n",
    "    imgOutput = img.copy()\n",
    "    hands, img = detector.findHands(img)\n",
    "    \n",
    "    if hands:\n",
    "        hand = hands[0]\n",
    "        x, y, w, h = hand['bbox']\n",
    "        imgWhite = np.ones((imgSize, imgSize, 3), np.uint8) * 255\n",
    "        imgCrop = img[y - offset:y + h + offset, x - offset:x + w + offset]\n",
    "        imgCropShape = imgCrop.shape\n",
    "        aspectRatio = h / w\n",
    "        \n",
    "        if aspectRatio > 1:\n",
    "            k = imgSize / h\n",
    "            wCal = math.ceil(k * w)\n",
    "            imgResize = cv2.resize(imgCrop, (wCal, imgSize))\n",
    "            imgResizeShape = imgResize.shape\n",
    "            wGap = math.ceil((imgSize - wCal) / 2)\n",
    "            imgWhite[:, wGap:wCal + wGap] = imgResize\n",
    "            prediction, index = classifier.getPrediction(imgWhite, draw=False)\n",
    "            label = labels[index]\n",
    "            print(\"Label:\", label)\n",
    "            \n",
    "            # Perform task based on label\n",
    "            if label == \"Help\":\n",
    "                # Open Safari\n",
    "                subprocess.Popen([\"open\", \"-a\", \"Safari\"])\n",
    "            elif label == \"Hello\":\n",
    "                # Open a specific application or perform any other task\n",
    "                pass  # Placeholder, add your specific task here\n",
    "            elif label == \"Good\":\n",
    "                # Open Finder\n",
    "                subprocess.Popen([\"open\", \"-a\", \"Finder\"])\n",
    "            elif label == \"No\":\n",
    "                # Open Mail\n",
    "                subprocess.Popen([\"open\", \"-a\", \"Mail\"])\n",
    "            elif label == \"Thanks\":\n",
    "                # Open a specific application or perform any other task\n",
    "                pass  # Placeholder, add your specific task here\n",
    "                \n",
    "        cv2.rectangle(imgOutput, (x - offset, y - offset-50),\n",
    "                      (x - offset+90, y - offset-50+50), (255, 0, 255), cv2.FILLED)\n",
    "        cv2.putText(imgOutput, labels[index], (x, y -26), cv2.FONT_HERSHEY_COMPLEX, 1.7, (255, 255, 255), 2)\n",
    "        cv2.rectangle(imgOutput, (x-offset, y-offset),\n",
    "                      (x + w+offset, y + h+offset), (255, 0, 255), 4)\n",
    "        \n",
    "        cv2.imshow(\"ImageCrop\", imgCrop)\n",
    "        cv2.imshow(\"ImageWhite\", imgWhite)\n",
    "    \n",
    "    cv2.imshow(\"Image\", imgOutput)\n",
    "    cv2.waitKey(1)"
   ]
  },
  {
   "cell_type": "code",
   "execution_count": null,
   "id": "9359c270",
   "metadata": {},
   "outputs": [],
   "source": []
  }
 ],
 "metadata": {
  "kernelspec": {
   "display_name": "Python 3 (ipykernel)",
   "language": "python",
   "name": "python3"
  },
  "language_info": {
   "codemirror_mode": {
    "name": "ipython",
    "version": 3
   },
   "file_extension": ".py",
   "mimetype": "text/x-python",
   "name": "python",
   "nbconvert_exporter": "python",
   "pygments_lexer": "ipython3",
   "version": "3.11.5"
  }
 },
 "nbformat": 4,
 "nbformat_minor": 5
}
